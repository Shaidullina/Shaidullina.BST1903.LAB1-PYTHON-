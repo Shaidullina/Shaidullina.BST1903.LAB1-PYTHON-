{
 "cells": [
  {
   "cell_type": "markdown",
   "id": "conditional-ceiling",
   "metadata": {},
   "source": [
    "# Лабораторная работа № 1\n"
   ]
  },
  {
   "cell_type": "markdown",
   "id": "advised-preservation",
   "metadata": {},
   "source": [
    "Выполнила студентка группы БСТ1903"
   ]
  },
  {
   "cell_type": "markdown",
   "id": "super-apparatus",
   "metadata": {},
   "source": [
    "Шайдуллина И.Р."
   ]
  },
  {
   "cell_type": "markdown",
   "id": "positive-lender",
   "metadata": {},
   "source": [
    "Написать код и вывести  фразу \"Привет, Мир!\""
   ]
  },
  {
   "cell_type": "code",
   "execution_count": 7,
   "id": "institutional-multimedia",
   "metadata": {},
   "outputs": [
    {
     "name": "stdout",
     "output_type": "stream",
     "text": [
      "Hello, World!\n"
     ]
    }
   ],
   "source": [
    "print(\"Hello, World!\")"
   ]
  },
  {
   "cell_type": "markdown",
   "id": "peaceful-bangkok",
   "metadata": {},
   "source": [
    "# Задание №2"
   ]
  },
  {
   "cell_type": "markdown",
   "id": "wrapped-reproduction",
   "metadata": {},
   "source": [
    "Написать генератор случайных матриц(многомерных), который принимает опциональные параметры m, n, min_limit, max_limit, где m и n указывают размер матрицы, а min_lim и max_lim - минимальное и максимальное значение для генерируемого числа . По умолчанию при отсутствии параметров принимать следующие значения:\n",
    "\n",
    "m = 50\n",
    "n = 50\n",
    "min_limit = -250\n",
    "max_limit = 1000 + (номер своего варианта)"
   ]
  },
  {
   "cell_type": "code",
   "execution_count": 8,
   "id": "similar-separation",
   "metadata": {},
   "outputs": [
    {
     "name": "stdout",
     "output_type": "stream",
     "text": [
      "[739, 203, 321, 610, -75]\n",
      "[668, 44, 380, 957, 388]\n",
      "[-27, 646, 881, 683, 913]\n",
      "[620, 898, 566, 337, 680]\n",
      "[24, 743, 395, -144, 759]\n"
     ]
    }
   ],
   "source": [
    "from random import randint\n",
    "n, m = 5, 5\n",
    "min_lim = -250\n",
    "max_lim = 1022\n",
    "a = [[randint(min_lim,max_lim) for j in range(m)] for i in range(n)]\n",
    "for d in a:\n",
    "    print(d)"
   ]
  },
  {
   "cell_type": "markdown",
   "id": "alternate-attraction",
   "metadata": {},
   "source": [
    "# Задание №3\n"
   ]
  },
  {
   "cell_type": "markdown",
   "id": "fundamental-jurisdiction",
   "metadata": {},
   "source": [
    "Реализовать методы сортировки строк числовой матрицы в соответствии с заданием. Оценить время работы каждого алгоритма сортировки и сравнить его со временем стандартной функции сортировки. Испытания проводить на сгенерированных матрицах.\n",
    "\n",
    "Методы: ВЫБОРОМ, ВСТАВКОЙ, ОБМЕНОМ, ШЕЛЛА, ТУРНИРНАЯ, БЫСТРАЯ СОРТИРОВКА, ПИРАМИДАЛЬНАЯ."
   ]
  },
  {
   "cell_type": "markdown",
   "id": "structured-acoustic",
   "metadata": {},
   "source": [
    "# Сортировка выбором"
   ]
  },
  {
   "cell_type": "code",
   "execution_count": 9,
   "id": "equal-arkansas",
   "metadata": {},
   "outputs": [
    {
     "name": "stdout",
     "output_type": "stream",
     "text": [
      "Исходный массив:\n",
      "[541, 190, 844, 732, 337, 565, 2, 233, 919, 775, -10, 636, 255, 434, 317, 742, 803, 123, 885, 293]\n",
      "Результирующий массив:\n",
      "[-10, 2, 123, 190, 233, 255, 293, 317, 337, 434, 541, 565, 636, 732, 742, 775, 803, 844, 885, 919]\n",
      "Время выполнения функции\n",
      "0.000163800003065262 секунд\n"
     ]
    }
   ],
   "source": [
    "def selection_sort(nums):  \n",
    "    for i in range(len(nums)):\n",
    "        lowest_value_index = i\n",
    "        for j in range(i + 1, len(nums)):\n",
    "            if nums[j] < nums[lowest_value_index]:\n",
    "                lowest_value_index = j\n",
    "        nums[i], nums[lowest_value_index] = nums[lowest_value_index], nums[i]\n",
    "from random import randint\n",
    "n = 20\n",
    "min_lim = -250\n",
    "max_lim = 1022\n",
    "a=[randint(min_lim,max_lim) for i in range(n)]\n",
    "print (\"Исходный массив:\")\n",
    "print(a)\n",
    "selection_sort(a) \n",
    "print (\"Результирующий массив:\")\n",
    "print(a)\n",
    "import timeit \n",
    "def test1():\n",
    "    res = [[3 for x in range(50)] for x in range(50)]\n",
    "print(\"Время выполнения функции\")\n",
    "print(timeit.timeit(\"test1()\", setup=\"from __main__ import test1\", number=1), \"секунд\")"
   ]
  },
  {
   "cell_type": "markdown",
   "id": "colored-priority",
   "metadata": {},
   "source": [
    "# Сортировка вставкой"
   ]
  },
  {
   "cell_type": "code",
   "execution_count": 10,
   "id": "earned-christianity",
   "metadata": {},
   "outputs": [
    {
     "name": "stdout",
     "output_type": "stream",
     "text": [
      "Исходный массив:\n",
      "[368, -214, 110, 338, 495, 288, 192, -96, 727, -47, 292, -99, -153, 951, 735, 744, -177, 203, 198, 278]\n",
      "Результирующий массив:\n",
      "[-214, -177, -153, -99, -96, -47, 110, 192, 198, 203, 278, 288, 292, 338, 368, 495, 727, 735, 744, 951]\n",
      "Время выполнения функции\n",
      "0.00018010000349022448 секунд\n"
     ]
    }
   ],
   "source": [
    "def insertion_sort(nums):\n",
    "      for i in range(1, len(nums)):\n",
    "        item_to_insert = nums[i]\n",
    "        j = i - 1\n",
    "        while j >= 0 and nums[j] > item_to_insert:\n",
    "            nums[j + 1] = nums[j]\n",
    "            j -= 1\n",
    "        nums[j + 1] = item_to_insert\n",
    "from random import randint\n",
    "n = 20\n",
    "min_lim = -250\n",
    "max_lim = 1022\n",
    "a=[randint(min_lim,max_lim) for i in range(n)]\n",
    "print (\"Исходный массив:\")\n",
    "print(a)\n",
    "insertion_sort(a)\n",
    "print (\"Результирующий массив:\")\n",
    "print(a)\n",
    "import timeit \n",
    "def test1():\n",
    "    res = [[3 for x in range(50)] for x in range(50)]\n",
    "print(\"Время выполнения функции\")\n",
    "print(timeit.timeit(\"test1()\", setup=\"from __main__ import test1\", number=1), \"секунд\")"
   ]
  },
  {
   "cell_type": "markdown",
   "id": "touched-happening",
   "metadata": {},
   "source": [
    "# Сортировка обменом"
   ]
  },
  {
   "cell_type": "code",
   "execution_count": 11,
   "id": "remarkable-album",
   "metadata": {},
   "outputs": [
    {
     "name": "stdout",
     "output_type": "stream",
     "text": [
      "Исходный массив:\n",
      "[-175, 518, 578, 434, 533, -173, 728, 32, -35, 764, 727, 282, 832, -108, 1018, 993, 637, 691, 166, 621]\n",
      "Результирующий массив:\n",
      "[-175, -173, -108, -35, 32, 166, 282, 434, 518, 533, 578, 621, 637, 691, 727, 728, 764, 832, 993, 1018]\n",
      "Время выполнения функции\n",
      "0.00015010000061010942 секунд\n"
     ]
    }
   ],
   "source": [
    "def bubble_sort(nums):  \n",
    "    swapped = True\n",
    "    while swapped:\n",
    "        swapped = False\n",
    "        for i in range(len(nums) - 1):\n",
    "                    if nums[i] > nums[i + 1]:\n",
    "                        nums[i], nums[i + 1] = nums[i + 1], nums[i]\n",
    "                        swapped = True\n",
    "from random import randint\n",
    "n = 20\n",
    "min_lim = -250\n",
    "max_lim = 1022\n",
    "a=[randint(min_lim,max_lim) for i in range(n)]\n",
    "print (\"Исходный массив:\")\n",
    "print(a)\n",
    "bubble_sort(a)  \n",
    "print (\"Результирующий массив:\")\n",
    "print(a) \n",
    "import timeit \n",
    "def test1():\n",
    "    res = [[3 for x in range(50)] for x in range(50)]\n",
    "print(\"Время выполнения функции\")\n",
    "print(timeit.timeit(\"test1()\", setup=\"from __main__ import test1\", number=1), \"секунд\")"
   ]
  },
  {
   "cell_type": "markdown",
   "id": "impaired-geneva",
   "metadata": {},
   "source": [
    " # Сортировка Шелла"
   ]
  },
  {
   "cell_type": "code",
   "execution_count": 12,
   "id": "exterior-player",
   "metadata": {},
   "outputs": [
    {
     "name": "stdout",
     "output_type": "stream",
     "text": [
      "Исходный массив:\n",
      "[195, 446, 700, 969, 546, 1017, 666, 188, 899, 377, 144, 876, 820, 336, -18, 193, 331, -23, 287, 797]\n",
      "Результирующий массив:\n",
      "[-23, -18, 144, 188, 193, 195, 287, 331, 336, 377, 446, 546, 666, 700, 797, 820, 876, 899, 969, 1017]\n",
      "Время выполнения функции\n",
      "0.00016789999790489674 секунд\n"
     ]
    }
   ],
   "source": [
    "def shell(data):\n",
    "    inc = len(data) // 2\n",
    "    while inc:\n",
    "        for i, el in enumerate(data):\n",
    "            while i >= inc and data[i - inc] > el:\n",
    "                data[i] = data[i - inc]\n",
    "                i -= inc\n",
    "            data[i] = el\n",
    "        inc = 1 if inc == 2 else int(inc * 5.0 / 11)\n",
    "    return data\n",
    "from random import randint\n",
    "n = 20\n",
    "min_lim = -250\n",
    "max_lim = 1022\n",
    "a=[randint(min_lim,max_lim) for i in range(n)]\n",
    "print (\"Исходный массив:\")\n",
    "print(a)\n",
    "shell(a)\n",
    "print (\"Результирующий массив:\")\n",
    "print(a)\n",
    "import timeit \n",
    "def test1():\n",
    "    res = [[3 for x in range(50)] for x in range(50)]\n",
    "print(\"Время выполнения функции\")\n",
    "print(timeit.timeit(\"test1()\", setup=\"from __main__ import test1\", number=1), \"секунд\")"
   ]
  },
  {
   "cell_type": "markdown",
   "id": "premium-dynamics",
   "metadata": {},
   "source": [
    "# Быстрая сортировка "
   ]
  },
  {
   "cell_type": "code",
   "execution_count": 13,
   "id": "third-publisher",
   "metadata": {},
   "outputs": [
    {
     "name": "stdout",
     "output_type": "stream",
     "text": [
      "Исходный массив:\n",
      "[728, 780, -224, -182, 67, 120, 241, 308, 827, 261, 621, 300, -18, -65, 543, 177, 706, 266, 824, 900]\n",
      "Результирующий массив:\n",
      "[-224, -182, -65, -18, 67, 120, 177, 241, 261, 266, 300, 308, 543, 621, 706, 728, 780, 824, 827, 900]\n",
      "Время выполнения функции\n",
      "0.0002151000007870607 секунд\n"
     ]
    }
   ],
   "source": [
    "def partition(nums, low, high):  \n",
    "    pivot = nums[(low + high) // 2]\n",
    "    i = low - 1\n",
    "    j = high + 1\n",
    "    while True:\n",
    "        i += 1\n",
    "        while nums[i] < pivot:\n",
    "            i += 1\n",
    "        j -= 1\n",
    "        while nums[j] > pivot:\n",
    "            j -= 1\n",
    "        if i >= j:\n",
    "            return j\n",
    "        nums[i], nums[j] = nums[j], nums[i]\n",
    "def quick_sort(nums):  \n",
    "    def _quick_sort(items, low, high):\n",
    "        if low < high:\n",
    "            split_index = partition(items, low, high)\n",
    "            _quick_sort(items, low, split_index)\n",
    "            _quick_sort(items, split_index + 1, high)\n",
    "    _quick_sort(nums, 0, len(nums) - 1)\n",
    "from random import randint\n",
    "n = 20\n",
    "min_lim = -250\n",
    "max_lim = 1022\n",
    "a=[randint(min_lim,max_lim) for i in range(n)]\n",
    "print (\"Исходный массив:\")\n",
    "print(a)\n",
    "quick_sort(a)  \n",
    "print (\"Результирующий массив:\")\n",
    "print(a)\n",
    "import timeit \n",
    "def test1():\n",
    "    res = [[3 for x in range(50)] for x in range(50)]\n",
    "print(\"Время выполнения функции\")\n",
    "print(timeit.timeit(\"test1()\", setup=\"from __main__ import test1\", number=1), \"секунд\")"
   ]
  },
  {
   "cell_type": "markdown",
   "id": "valuable-matrix",
   "metadata": {},
   "source": [
    "# Пирамидная сортировка"
   ]
  },
  {
   "cell_type": "code",
   "execution_count": 17,
   "id": "continental-sherman",
   "metadata": {},
   "outputs": [
    {
     "name": "stdout",
     "output_type": "stream",
     "text": [
      "Исходный массив:\n",
      "[616, 1017, 281, 616, 810, 579, 251, 966, 649, 216, 944, 151, -185, 545, 419, 529, 815, 88, 997, 646]\n",
      "Результирующий массив:\n",
      "[-185, 88, 151, 216, 251, 281, 419, 529, 545, 579, 616, 616, 646, 649, 810, 815, 944, 966, 997, 1017]\n",
      "Время выполнения функции\n",
      "0.00016870000399649143 секунд\n"
     ]
    }
   ],
   "source": [
    "def heapify(nums, heap_size, root_index):  \n",
    "    largest = root_index\n",
    "    left_child = (2 * root_index) + 1\n",
    "    right_child = (2 * root_index) + 2\n",
    "    if left_child < heap_size and nums[left_child] > nums[largest]:\n",
    "        largest = left_child\n",
    "    if right_child < heap_size and nums[right_child] > nums[largest]:\n",
    "        largest = right_child\n",
    "    if largest != root_index:\n",
    "        nums[root_index], nums[largest] = nums[largest], nums[root_index]\n",
    "        heapify(nums, heap_size, largest)\n",
    "def heap_sort(nums):  \n",
    "    n = len(nums)\n",
    "    for i in range(n, -1, -1):\n",
    "        heapify(nums, n, i)\n",
    "    for i in range(n - 1, 0, -1):\n",
    "        nums[i], nums[0] = nums[0], nums[i]\n",
    "        heapify(nums, i, 0)\n",
    "from random import randint\n",
    "n = 20\n",
    "min_lim = -250\n",
    "max_lim = 1022\n",
    "a=[randint(min_lim,max_lim) for i in range(n)]\n",
    "print (\"Исходный массив:\")\n",
    "print(a)\n",
    "heap_sort(a)  \n",
    "print (\"Результирующий массив:\")\n",
    "print(a)\n",
    "import timeit \n",
    "def test1():\n",
    "    res = [[3 for x in range(50)] for x in range(50)]\n",
    "print(\"Время выполнения функции\")\n",
    "print(timeit.timeit(\"test1()\", setup=\"from __main__ import test1\", number=1), \"секунд\")"
   ]
  },
  {
   "cell_type": "code",
   "execution_count": null,
   "id": "economic-click",
   "metadata": {},
   "outputs": [],
   "source": []
  }
 ],
 "metadata": {
  "kernelspec": {
   "display_name": "Python 3",
   "language": "python",
   "name": "python3"
  },
  "language_info": {
   "codemirror_mode": {
    "name": "ipython",
    "version": 3
   },
   "file_extension": ".py",
   "mimetype": "text/x-python",
   "name": "python",
   "nbconvert_exporter": "python",
   "pygments_lexer": "ipython3",
   "version": "3.9.1"
  }
 },
 "nbformat": 4,
 "nbformat_minor": 5
}
