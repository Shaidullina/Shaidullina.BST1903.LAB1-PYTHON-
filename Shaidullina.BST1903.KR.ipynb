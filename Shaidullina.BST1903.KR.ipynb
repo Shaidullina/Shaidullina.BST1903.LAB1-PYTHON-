{
 "cells": [
  {
   "cell_type": "markdown",
   "id": "normal-galaxy",
   "metadata": {},
   "source": [
    "# Курсовая работа по дисциплине \"Структуры и алгоритмы обработки данных\""
   ]
  },
  {
   "cell_type": "markdown",
   "id": "worldwide-doubt",
   "metadata": {},
   "source": [
    "## Выполнила студентка группы БСТ1903 Шайдуллина И.Р."
   ]
  },
  {
   "cell_type": "markdown",
   "id": "thermal-socket",
   "metadata": {},
   "source": [
    "## Задача №1 «Треугольник с максимальным периметром»"
   ]
  },
  {
   "cell_type": "markdown",
   "id": "funded-adventure",
   "metadata": {},
   "source": [
    "### Массив A состоит из целых положительных чисел ­ длин отрезков. Составьте из трех отрезков такой треугольник, чтобы его периметр был максимально возможным. Если невозможно составить треугольник с положительной площадью ­ функция возвращает 0"
   ]
  },
  {
   "cell_type": "code",
   "execution_count": 1,
   "id": "beneficial-supervisor",
   "metadata": {},
   "outputs": [
    {
     "name": "stdout",
     "output_type": "stream",
     "text": [
      "Введите длину массива4\n",
      "4\n",
      "4\n",
      "4\n",
      "4\n",
      "[4, 4, 4, 4]\n",
      "Периметр= 12\n"
     ]
    }
   ],
   "source": [
    "# Находжение периметра\n",
    "def Perimetr (a, b, c):\n",
    "    if (a+b)>c and (a+c)>b and (b+c)>a:\n",
    "        return int(a+b+c)\n",
    "    else:\n",
    "        return 0\n",
    "length=int(input('Введите длину массива'))\n",
    "mas=[]\n",
    "for i in range(length):\n",
    "    mas.append(int(input()))\n",
    "mas=sorted(mas, reverse=True)\n",
    "print(mas)\n",
    "for i in range(len(mas)-2):\n",
    "    if Perimetr(mas[i], mas[i+1], mas[i+2])>0:\n",
    "        print(\"Периметр=\", Perimetr(mas[i], mas[i+1], mas[i+2]))\n",
    "        break"
   ]
  },
  {
   "cell_type": "markdown",
   "id": "motivated-metadata",
   "metadata": {},
   "source": [
    "## Задача №2 «Максимальное число»"
   ]
  },
  {
   "cell_type": "markdown",
   "id": "restricted-zealand",
   "metadata": {},
   "source": [
    "### Дан массив неотрицательных целых чисел nums. Расположите их в таком порядке, чтобы вместе они образовали максимально возможное число. Замечание: Результат может быть очень большим числом, поэтому представьте его как string, а не integer."
   ]
  },
  {
   "cell_type": "code",
   "execution_count": 2,
   "id": "dominant-dylan",
   "metadata": {},
   "outputs": [
    {
     "name": "stdout",
     "output_type": "stream",
     "text": [
      "210\n",
      "9534330\n",
      "1\n",
      "10\n"
     ]
    }
   ],
   "source": [
    "def mNum(arr):\n",
    "    def is_a_big_than_b(a, b):\n",
    "        ab = int(str(a) + str(b))\n",
    "        ba = int(str(b) + str(a))\n",
    "        if ab > ba:\n",
    "            return True\n",
    "        else:\n",
    "            return False\n",
    "    \n",
    "    def sortArr(arr):\n",
    "        for i in range(len(arr) - 1):\n",
    "            big = i\n",
    "            for j in range(i + 1, len(arr)):\n",
    "                if not is_a_big_than_b(arr[big], arr[j]):\n",
    "                    big = j\n",
    "            arr[i], arr[big] = arr[big], arr[i]\n",
    "    \n",
    "    sortArr(arr)\n",
    "    return ''.join(str(e) for e in arr)\n",
    "\n",
    "\n",
    "print(mNum([10,2]))\n",
    "print(mNum([3,30,34,5,9]))\n",
    "print(mNum([1]))\n",
    "print(mNum([10]))"
   ]
  },
  {
   "cell_type": "markdown",
   "id": "indie-circular",
   "metadata": {},
   "source": [
    "### Задача №3 «Сортировка диагоналей в матрице»"
   ]
  },
  {
   "cell_type": "markdown",
   "id": "british-custom",
   "metadata": {},
   "source": [
    "### Дана матрица mat размером m * n, значения ­ целочисленные. Напишите функцию, сортирующую каждую диагональ матрицы по возрастанию и возвращающую получившуюся матрицу."
   ]
  },
  {
   "cell_type": "code",
   "execution_count": 3,
   "id": "extraordinary-cutting",
   "metadata": {},
   "outputs": [
    {
     "name": "stdout",
     "output_type": "stream",
     "text": [
      "[[1, 1, 1, 1], [1, 2, 2, 2], [1, 2, 3, 3]]\n",
      "[[5, 17, 4, 1, 52, 7], [11, 11, 25, 45, 8, 69], [14, 23, 25, 44, 58, 15], [22, 27, 31, 36, 50, 66], [84, 28, 75, 33, 55, 68]]\n"
     ]
    }
   ],
   "source": [
    "def sortMat(matrix):\n",
    "    def comp(matrix, i ,j):\n",
    "        if i==0 or j==0:\n",
    "            return\n",
    "        try:\n",
    "            if matrix[i][j]<matrix[i-1][j-1]:\n",
    "                matrix[i][j],matrix[i-1][j-1]=matrix[i-1][j-1],matrix[i][j]\n",
    "                return(comp(matrix,i+1,j+1))\n",
    "        except IndexError:\n",
    "            return\n",
    "    for i in range(len(matrix)-1,-1,-1):\n",
    "        for j in range(0, len(matrix[i]),1):\n",
    "            comp(matrix,i,j)\n",
    "    return matrix\n",
    "print(sortMat([[3, 3, 1, 1], [2, 2, 1, 2], [1, 1, 1, 2]]))\n",
    "print(sortMat([[11, 25, 66, 1, 69, 7], [23, 55, 17, 45, 15, 52], [75, 31, 36,44, 58, 8], [22, 27, 33, 25, 68, 4], [84, 28, 14, 11, 5, 50]]))"
   ]
  },
  {
   "cell_type": "markdown",
   "id": "binary-cincinnati",
   "metadata": {},
   "source": [
    "### Задача №4"
   ]
  },
  {
   "cell_type": "markdown",
   "id": "guilty-reduction",
   "metadata": {},
   "source": [
    "### Даны две строки: s1 и s2 с одинаковым размером, проверьте, может ли некоторая перестановка строки s1 “победить” некоторую перестановку строки s2 или наоборот. Строка x может “победить” строку y (обе имеют размер n), если x[i]> = y [i] (в алфавитном порядке) для всех i от 0 до n-1."
   ]
  },
  {
   "cell_type": "code",
   "execution_count": 5,
   "id": "nasty-performance",
   "metadata": {},
   "outputs": [
    {
     "name": "stdout",
     "output_type": "stream",
     "text": [
      "True\n"
     ]
    }
   ],
   "source": [
    "def check(s1, s2):\n",
    "    s1 = sorted(s1)\n",
    "    s2 = sorted(s2)\n",
    "    flag1 = True\n",
    "    flag2 = True\n",
    "    for i in range(len(s1)):\n",
    "        if s1[i] > s2[i]:\n",
    "            flag2 = False\n",
    "        if s2[i] > s1[i]:\n",
    "            flag1 = False\n",
    "    return flag1 or flag2\n",
    "\n",
    "s1 = \"abc\"\n",
    "s2 = \"cda\"\n",
    "print(check(s1, s2))"
   ]
  },
  {
   "cell_type": "markdown",
   "id": "attended-presence",
   "metadata": {},
   "source": [
    "### Задача №5"
   ]
  },
  {
   "cell_type": "markdown",
   "id": "sacred-serbia",
   "metadata": {},
   "source": [
    "### Дана строка s, вернуть самую длинную полиндромную подстроку в s."
   ]
  },
  {
   "cell_type": "code",
   "execution_count": 6,
   "id": "latter-comparative",
   "metadata": {},
   "outputs": [
    {
     "name": "stdout",
     "output_type": "stream",
     "text": [
      "2x2\n"
     ]
    }
   ],
   "source": [
    "def Palindromes(s):\n",
    "    s_rev = s[::-1]\n",
    "    return s_rev == s\n",
    "def Longest_Palindrome(s):\n",
    "    max_len = 1\n",
    "    Max_pal = s[0]\n",
    "    for i in range(len(s) - 1):\n",
    "        for j in range (i+1, len(s)):\n",
    "            if Palindromes(s[i:j]) and len(s[i:j]) > max_len:\n",
    "                max_len = len(s[i:j])\n",
    "                Max_pal = s[i:j]\n",
    "    return Max_pal\n",
    "\n",
    "s = \"abb2x2xr\"\n",
    "print(Longest_Palindrome(s))"
   ]
  },
  {
   "cell_type": "markdown",
   "id": "competitive-placement",
   "metadata": {},
   "source": [
    "### Задача №6"
   ]
  },
  {
   "cell_type": "markdown",
   "id": "prompt-study",
   "metadata": {},
   "source": [
    "### Вернуть количество отдельных непустых подстрок текста, которые могут быть записаны как конкатенация некоторой строки с самой собой (т.е. она может быть записана, как a + a, где a - некоторая строка)"
   ]
  },
  {
   "cell_type": "code",
   "execution_count": 13,
   "id": "infinite-shaft",
   "metadata": {},
   "outputs": [
    {
     "name": "stdout",
     "output_type": "stream",
     "text": [
      "Введите строку: ababababab\n",
      "Введите подстроку: ab\n",
      "5\n"
     ]
    }
   ],
   "source": [
    "s = input(\"Введите строку: \")\n",
    "sb = input(\"Введите подстроку: \")\n",
    "results = 0\n",
    "sub_len = len(sb)\n",
    "for i in range(len(s)):\n",
    "    if s[i:i+sub_len] == sb:\n",
    "        results += 1\n",
    "print(results)"
   ]
  },
  {
   "cell_type": "markdown",
   "id": "latest-learning",
   "metadata": {},
   "source": [
    "### Задача №7 «Шарики и стрелы»"
   ]
  },
  {
   "cell_type": "markdown",
   "id": "challenging-complexity",
   "metadata": {},
   "source": [
    "### Некоторые сферические шарики распределены по двухмерному пространству. Для каждого шарика даны x-координаты начала и конца его горизонтального диаметра. Так как пространство двумерно, то y-координаты не имеют значения в данной задаче. Координата xstart всегда меньше xend. Стрелу можно выстрелить строго вертикально (вдоль y-оси) из разных точек x-оси. Шарик с координатами xstart и xend уничтожается стрелой, если она была выпущена из такой позиции x, что xstart ⩽ x ⩽ xend. Когда стрела выпущена, она летит в пространстве бесконечное время (уничтожая все шарики на пути). Дан массив points, где points[i] = [xstart, xend]. Напишите функцию, возвращающую минимальное количество стрел, которые нужно выпустить, чтобы уничтожить все шарики."
   ]
  },
  {
   "cell_type": "code",
   "execution_count": 11,
   "id": "frank-union",
   "metadata": {},
   "outputs": [
    {
     "name": "stdout",
     "output_type": "stream",
     "text": [
      "[[2, 4], [3, 2], [7, 6], [7, 8]]\n",
      "3\n"
     ]
    }
   ],
   "source": [
    "class shariki:\n",
    "    def __init__(self, mass):\n",
    "        self.mass=mass\n",
    "        self.count=1\n",
    "    \n",
    "    def search(self):\n",
    "        if len(self.mass)==0: ## проверка на 0\n",
    "            self.count=0\n",
    "        else:\n",
    "            m=0\n",
    "            for i in range(len(self.mass)):\n",
    "                self.mass.sort() ## сортирует массив координат\n",
    "            print(self.mass)\n",
    "            for i in range(len(self.mass)-1):\n",
    "                if self.mass[m][1]<self.mass[i+1][0]: ## условие, если граница 2-го шарика за пределами 1-го\n",
    "                    self.count=self.count+1 ## если шарики не входят, то прибавляет кол-во стрел\n",
    "                    m=i+1 \n",
    "                elif self.mass[m][0]<=self.mass[i+1][0] and self.mass[m][1]>=self.mass[i+1][1]: ## если 2 шарик входит в 1, то переключается на 2\n",
    "                       m=i+1\n",
    "                    \n",
    "        return self.count\n",
    "            \n",
    "arr = [[3,2],[2,4],[7,6],[7,8]]        \n",
    "a = shariki(arr)\n",
    "print(a.search())"
   ]
  },
  {
   "cell_type": "markdown",
   "id": "chinese-difference",
   "metadata": {},
   "source": [
    "### Задача №8 «Стопки монет»"
   ]
  },
  {
   "cell_type": "markdown",
   "id": "noble-roman",
   "metadata": {},
   "source": [
    "### На столе стоят 3n стопок монет. Вы и ваши друзья Алиса и Боб забираете стопки монет по следующему алгоритму:\n",
    "### Вы выбираете 3 стопки монет из оставшихся на столе.\n",
    "### Алиса забирает себе стопку с максимальным количеством монет.\n",
    "### Вы забираете одну из двух оставшихся стопок.\n",
    "### Боб забирает последнюю стопку.\n",
    "### Если еще остались стопки, то действия повторяются с первого шага"
   ]
  },
  {
   "cell_type": "markdown",
   "id": "comparable-cover",
   "metadata": {},
   "source": [
    "### Дан массив целых положительных чисел piles. Напишите функцию, возвращающую максимальное число монет, которое вы можете получить."
   ]
  },
  {
   "cell_type": "code",
   "execution_count": 8,
   "id": "derived-crime",
   "metadata": {},
   "outputs": [
    {
     "name": "stdout",
     "output_type": "stream",
     "text": [
      "9\n"
     ]
    }
   ],
   "source": [
    "def game(piles):\n",
    "    piles.sort()\n",
    "    result = 0\n",
    "    begin = len(piles) // 3\n",
    "    for i in range(begin, len(piles), 2):\n",
    "        result = result + piles[i]\n",
    "    return result\n",
    "\n",
    "piles = [2,4,1,2,7,8]\n",
    "print(game(piles))"
   ]
  },
  {
   "cell_type": "markdown",
   "id": "finnish-array",
   "metadata": {},
   "source": [
    "### Задача №9 «Объединение отрезков»"
   ]
  },
  {
   "cell_type": "markdown",
   "id": "joint-contractor",
   "metadata": {},
   "source": [
    "### Дан массив отрезков intervals, в котором intervals[i] = [starti, endi], некоторые отрезки могут пересекаться. Напишите функцию, которая объединяет все пересекающиеся отрезки в один и возвращает новый массив непересекающихся отрезков."
   ]
  },
  {
   "cell_type": "code",
   "execution_count": 9,
   "id": "rough-invalid",
   "metadata": {},
   "outputs": [
    {
     "name": "stdout",
     "output_type": "stream",
     "text": [
      "[[1, 5], [2, 6], [3, 4], [8, 10], [15, 20], [20, 21]]\n",
      "[[1, 6], [8, 10], [15, 21]]\n"
     ]
    }
   ],
   "source": [
    "def arr_Sort(A):\n",
    "    for j in range(len(A) - 1, 0, -1): \n",
    "        for i in range(0, j): \n",
    "            if A[i][0] > A[i + 1][0]: \n",
    "                A[i], A[i + 1] = A[i + 1], A[i]\n",
    "\n",
    "def unity(A):\n",
    "    arr_Sort(A)\n",
    "    print(A)\n",
    "    B = [A[0]]\n",
    "    j = 0\n",
    "    for i in range(1, len(A)):\n",
    "        if A[i][0] >= B[j][0] and A[i][0] <= B[j][1] and A[i][1] >= B[j][1]:\n",
    "            B[j] = [B[j][0], A[i][1]]\n",
    "        elif A[i][0] >= B[j][0] and A[i][0] <= B[j][1] and A[i][1] < B[j][1]:\n",
    "            B[j] = [B[j][0], B[j][1]]\n",
    "        else:\n",
    "            B.append(A[i])\n",
    "            j = j + 1\n",
    "    return B\n",
    "            \n",
    "intervals = [[8,10], [1, 5], [3, 4], [2, 6], [15, 20], [20, 21]]\n",
    "print(unity(intervals))"
   ]
  },
  {
   "cell_type": "markdown",
   "id": "lightweight-allen",
   "metadata": {},
   "source": [
    "### Вывод"
   ]
  },
  {
   "cell_type": "markdown",
   "id": "secondary-boundary",
   "metadata": {},
   "source": [
    "### В ходе выполнения данной курсовой работы по дисциплине СиАОД были изучены и решены задачи, для которых использовались алгоритмы для обработки данных. Были решены зададачи по массивам (нахождение максимального периметра треугольника, сортировка диагоналей матрицы и тд.), строкам (нахождение самой длинной палиндромной подстроки в строке, нахождение количества отдельных подстрок текста и тд.), а так же задачи на логику и закрепление материала: \"монетки\", \"шарики и стрелы\" и \"объединение отрезков\"."
   ]
  }
 ],
 "metadata": {
  "kernelspec": {
   "display_name": "Python 3",
   "language": "python",
   "name": "python3"
  },
  "language_info": {
   "codemirror_mode": {
    "name": "ipython",
    "version": 3
   },
   "file_extension": ".py",
   "mimetype": "text/x-python",
   "name": "python",
   "nbconvert_exporter": "python",
   "pygments_lexer": "ipython3",
   "version": "3.9.1"
  }
 },
 "nbformat": 4,
 "nbformat_minor": 5
}
