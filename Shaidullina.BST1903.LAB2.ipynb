{
 "cells": [
  {
   "cell_type": "markdown",
   "id": "native-negotiation",
   "metadata": {},
   "source": [
    "# Лабораторная работа №2\n"
   ]
  },
  {
   "cell_type": "markdown",
   "id": "durable-comedy",
   "metadata": {},
   "source": [
    "## Выполнила студентка группы БСТ1903 Шайдуллина И.Р."
   ]
  },
  {
   "cell_type": "markdown",
   "id": "capable-asthma",
   "metadata": {},
   "source": [
    "Реализовать методы поиска в соответствии с заданием. Организовать генерацию начального набора случайных данных. Для всех вариантов добавить реализацию добавления, поиска и удаления элементов. Оценить время работы каждого алгоритма поиска и сравнить его со временем работы стандартной функции поиска, используемой в выбранном языке программирования."
   ]
  },
  {
   "cell_type": "markdown",
   "id": "unable-force",
   "metadata": {},
   "source": [
    "# Задание №1"
   ]
  },
  {
   "cell_type": "markdown",
   "id": "extensive-classroom",
   "metadata": {},
   "source": [
    "## Бинарное дерево"
   ]
  },
  {
   "cell_type": "code",
   "execution_count": 29,
   "id": "electric-receptor",
   "metadata": {},
   "outputs": [],
   "source": [
    "class TreeNode:\n",
    "    def __init__(self, value):\n",
    "        self.value=value\n",
    "        self.right=None\n",
    "        self.left=None\n",
    "    def addTo(self, mas):\n",
    "        if mas<self.value:\n",
    "            if self.left is None:\n",
    "                self.left=TreeNode(mas)\n",
    "            else:\n",
    "                self.left.addTo( mas)\n",
    "        else:\n",
    "            if self.right is None:\n",
    "                self.right=TreeNode(mas)\n",
    "            else:\n",
    "                self.right.addTo(mas)\n",
    "        \n",
    "            \n",
    "    def pre_order(self, nl):\n",
    "        if nl and self and self.value is not None:\n",
    "            if nl>self.value and self.right:\n",
    "                self=self.right.pre_order(nl)\n",
    "            elif nl<self.value and self.left:\n",
    "                self=self.left.pre_order(nl)\n",
    "            elif(nl==self.value):\n",
    "                print(\"Элемент найден\")\n",
    "                return self\n",
    "            else:\n",
    "                print(\"Элемент не найдет\")\n",
    "                return None\n",
    "            \n",
    "        else:\n",
    "            print(\"Элемент не найдет\")\n",
    "            return None\n",
    "        return self\n",
    "        \n",
    "    def deleted(self):\n",
    "        if self.right is not None:\n",
    "            self.value=self.right.value\n",
    "            self.right.deleted()\n",
    "        elif self.left is not None:\n",
    "            self.value=self.left.value\n",
    "            self.left.deleted()\n",
    "        elif (self.left is None) and (self.right is None):\n",
    "            self.value=None\n",
    "    \n",
    "    def delit(self, i):\n",
    "        self.pre_order(i).deleted()\n",
    "        \n",
    "    def pr(self):\n",
    "        if self.left:\n",
    "            self.left.pr()\n",
    "        print(self.value)\n",
    "        if self.right:\n",
    "            self.right.pr()"
   ]
  },
  {
   "cell_type": "markdown",
   "id": "mobile-trauma",
   "metadata": {},
   "source": [
    "## Бинарный поиск"
   ]
  },
  {
   "cell_type": "code",
   "execution_count": 30,
   "id": "baking-liberal",
   "metadata": {},
   "outputs": [
    {
     "name": "stdout",
     "output_type": "stream",
     "text": [
      "Массив:\n",
      "[-5, 23, 28, 41, 43, 52, 55, 87, 90, 96]\n",
      "52\n",
      "Индекс искомого числа = 5\n"
     ]
    }
   ],
   "source": [
    "from random import randint\n",
    "# Создание массива,\n",
    "# его сортировка по возрастанию\n",
    "# и вывод на экран\n",
    "massiv = []\n",
    "for i in range(10):\n",
    "    massiv.append(randint(-10, 100))\n",
    "massiv.sort()\n",
    "print(\"Массив:\")\n",
    "print(massiv)\n",
    "value = int(input()) # Искомое число вводится с клавиатуры\n",
    "mid = len(massiv) // 2 # Середина массива\n",
    "low = 0 # Нижняя граница массива\n",
    "high = len(massiv) - 1 # Верхняя граница массива\n",
    "while massiv[mid] != value and low <= high:\n",
    "    if value > massiv[mid]:\n",
    "        low = mid + 1\n",
    "    else:\n",
    "        high = mid - 1\n",
    "    mid = (low + high) // 2\n",
    "if low > high:\n",
    "    print(\"Число не найдено\")\n",
    "else:\n",
    "    print(\"Индекс искомого числа =\", mid)"
   ]
  },
  {
   "cell_type": "markdown",
   "id": "quality-checkout",
   "metadata": {},
   "source": [
    "## Фибоначчиев"
   ]
  },
  {
   "cell_type": "code",
   "execution_count": 31,
   "id": "cooperative-hours",
   "metadata": {},
   "outputs": [
    {
     "name": "stdout",
     "output_type": "stream",
     "text": [
      "Массив:\n",
      "[2, 7, 7, 17, 26, 35, 51, 54, 64, 86]\n",
      "26\n",
      "Индекс искомого элемента = 4\n"
     ]
    }
   ],
   "source": [
    "def FibonacciSearch(lys, val):\n",
    "    fibM_minus_2 = 0\n",
    "    fibM_minus_1 = 1\n",
    "    fibM = fibM_minus_1 + fibM_minus_2\n",
    "    while (fibM < len(lys)):\n",
    "        fibM_minus_2 = fibM_minus_1\n",
    "        fibM_minus_1 = fibM\n",
    "        fibM = fibM_minus_1 + fibM_minus_2\n",
    "    index = -1;\n",
    "    while (fibM > 1):\n",
    "        i = min(index + fibM_minus_2, (len(lys)-1))\n",
    "        if (lys[i] < val):\n",
    "            fibM = fibM_minus_1\n",
    "            fibM_minus_1 = fibM_minus_2\n",
    "            fibM_minus_2 = fibM - fibM_minus_1\n",
    "            index = i\n",
    "        elif (lys[i] > val):\n",
    "            fibM = fibM_minus_2\n",
    "            fibM_minus_1 = fibM_minus_1 - fibM_minus_2\n",
    "            fibM_minus_2 = fibM - fibM_minus_1\n",
    "        else :\n",
    "            return i\n",
    "    if(fibM_minus_1 and index < (len(lys)-1) and lys[index+1] == val):\n",
    "        return index+1;\n",
    "    return -1\n",
    "from random import randint\n",
    "# Создание массива,\n",
    "# его сортировка по возрастанию\n",
    "# и вывод на экран\n",
    "massiv = []\n",
    "for i in range(10):\n",
    "    massiv.append(randint(-10, 100))\n",
    "massiv.sort()\n",
    "print(\"Массив:\")\n",
    "print(massiv)\n",
    "val = int(input())\n",
    "index = FibonacciSearch(massiv, val)\n",
    "print(\"Индекс искомого элемента =\", index)"
   ]
  },
  {
   "cell_type": "markdown",
   "id": "weird-british",
   "metadata": {},
   "source": [
    "## Интерполяционный"
   ]
  },
  {
   "cell_type": "code",
   "execution_count": 32,
   "id": "prerequisite-cosmetic",
   "metadata": {},
   "outputs": [
    {
     "name": "stdout",
     "output_type": "stream",
     "text": [
      "Массив:\n",
      "[2, 8, 22, 29, 58, 67, 69, 80, 92, 93]\n",
      "2\n",
      "Индекс искомого элемента = 0\n"
     ]
    }
   ],
   "source": [
    "def InterpolationSearch(massiv, val):\n",
    "    low = 0\n",
    "    high = (len(massiv) - 1)\n",
    "    while low <= high and val >= massiv[low] and val <= massiv[high]:\n",
    "        index = low + int(((float(high - low) / ( massiv[high] - massiv[low])) * ( val - massiv[low])))\n",
    "        if massiv[index] == val:\n",
    "            return index\n",
    "        if massiv[index] < val:\n",
    "            low = index + 1;\n",
    "        else:\n",
    "            high = index - 1;\n",
    "    return -1\n",
    "from random import randint\n",
    "# Создание массива,\n",
    "# его сортировка по возрастанию\n",
    "# и вывод на экран\n",
    "massiv = []\n",
    "for i in range(10):\n",
    "    massiv.append(randint(-10, 100))\n",
    "massiv.sort()\n",
    "print(\"Массив:\")\n",
    "print(massiv)\n",
    "val = int(input())\n",
    "index = InterpolationSearch(massiv, val)\n",
    "print(\"Индекс искомого элемента =\", index)"
   ]
  },
  {
   "cell_type": "markdown",
   "id": "pressing-cologne",
   "metadata": {},
   "source": [
    "# Задание №2"
   ]
  },
  {
   "cell_type": "markdown",
   "id": "entire-purple",
   "metadata": {},
   "source": [
    "## Простое рехэширование"
   ]
  },
  {
   "cell_type": "code",
   "execution_count": 38,
   "id": "universal-diabetes",
   "metadata": {},
   "outputs": [],
   "source": [
    "class HashMap:\n",
    "    def __init__(self):\n",
    "        self.size = 0\n",
    "        self.data = []\n",
    "        self._resize()\n",
    "    \n",
    "    def _hash(self, key, i):\n",
    "        return (hash(key) + i) % len(self.data)\n",
    "        \n",
    "    def _find(self, key):\n",
    "        i = 0;\n",
    "        index = self._hash(key, i);\n",
    "        while self.data[index] is not None and self.data[index][0] != key:\n",
    "            i += 1\n",
    "            index = self._hash(key, i);\n",
    "        return index;\n",
    "    \n",
    "    def _resize(self):\n",
    "        temp = self.data\n",
    "        self.data = [None] * (2*len(self.data) + 1)\n",
    "        for item in temp:\n",
    "            if item is not None:\n",
    "                self.data[self._find(item[0])] = item\n",
    "    \n",
    "    def __setitem__(self, key, value):\n",
    "        if self.size + 1 > len(self.data) // 2:\n",
    "            self._resize()\n",
    "        index = self._find(key)\n",
    "        if self.data[index] is None:  \n",
    "            self.size += 1\n",
    "        self.data[index] = (key, value)\n",
    "    \n",
    "    def __getitem__(self, key):\n",
    "        index = self._find(key)\n",
    "        if self.data[index] is not None:\n",
    "            return self.data[index][1]\n",
    "        raise KeyError()"
   ]
  },
  {
   "cell_type": "markdown",
   "id": "incident-flooring",
   "metadata": {},
   "source": [
    "## Рехэширование с помощью псевнослучайных чисел"
   ]
  },
  {
   "cell_type": "code",
   "execution_count": 39,
   "id": "pleasant-grace",
   "metadata": {},
   "outputs": [],
   "source": [
    "class RandomHashMap(HashMap):\n",
    "    _rand_c = [5323]\n",
    "    \n",
    "    def _rand(self, i):\n",
    "        if len(self._rand_c) - 1 < i:\n",
    "            self._rand_c.append(self._rand(i - 1))\n",
    "        return (123456789 * self._rand_c[i] + 987654321) % 65546\n",
    "        \n",
    "    def _hash(self, key, i):\n",
    "        return (hash(key) + self._rand(i)) % len(self.data)"
   ]
  },
  {
   "cell_type": "markdown",
   "id": "round-rebate",
   "metadata": {},
   "source": [
    "## Метод цепочек"
   ]
  },
  {
   "cell_type": "code",
   "execution_count": 40,
   "id": "starting-founder",
   "metadata": {},
   "outputs": [],
   "source": [
    "\n",
    "class ChainMap:\n",
    "    def __init__(self):\n",
    "        self.size = 0\n",
    "        self.data = []\n",
    "        self._resize()\n",
    "    \n",
    "    def _hash(self, key):\n",
    "        return hash(key) % len(self.data)\n",
    "    \n",
    "    def _insert(self, index, item):\n",
    "        if self.data[index] is None:\n",
    "            self.data[index] = [item]\n",
    "            return True\n",
    "        else:\n",
    "            for i, item_ in enumerate(self.data[index]):\n",
    "                if item_[0] == item[0]:\n",
    "                    self.data[index][i] = item\n",
    "                    return False\n",
    "            self.data[index].append(item)\n",
    "            return True\n",
    "    \n",
    "    def _resize(self):\n",
    "        temp = self.data\n",
    "        self.data = [None] * (2*len(self.data) + 1)\n",
    "        for bucket in temp:\n",
    "            if bucket is not None:\n",
    "                for key, value in bucket:\n",
    "                    self._insert(self._hash(key), (key, value))\n",
    "    \n",
    "    def __setitem__(self, key, value):\n",
    "        if self.size + 1 > len(self.data) // 1.5:\n",
    "            self._resize()\n",
    "        if self._insert(self._hash(key), (key, value)):  \n",
    "            self.size += 1\n",
    "    \n",
    "    def __getitem__(self, key):\n",
    "        index = self._hash(key)\n",
    "        if self.data[index] is not None:\n",
    "            for key_, value in self.data[index]:\n",
    "                if key_ == key:\n",
    "                    return value\n",
    "        raise KeyError()"
   ]
  },
  {
   "cell_type": "markdown",
   "id": "french-module",
   "metadata": {},
   "source": [
    "# Задание №3"
   ]
  },
  {
   "cell_type": "markdown",
   "id": "included-webster",
   "metadata": {},
   "source": [
    "### Расставить на стандартной 64-клеточной шахматной доске 8 ферзей так, чтобы ниодин из них не находился под боем другого». Подразумевается, что ферзь бьёт все клетки, расположенные по вертикалям, горизонталям и обеим диагоналям."
   ]
  },
  {
   "cell_type": "markdown",
   "id": "listed-navigation",
   "metadata": {},
   "source": [
    "### Написать программу, которая находит хотя бы один способ решения задач."
   ]
  },
  {
   "cell_type": "code",
   "execution_count": 41,
   "id": "going-guide",
   "metadata": {},
   "outputs": [
    {
     "data": {
      "text/plain": [
       "[[0, 0, 0, 0, 0, 0, 0, 1, 0, 0],\n",
       " [1, 0, 0, 0, 0, 0, 0, 0, 0, 0],\n",
       " [0, 0, 0, 0, 1, 0, 0, 0, 0, 0],\n",
       " [0, 0, 0, 0, 0, 0, 0, 0, 1, 0],\n",
       " [0, 1, 0, 0, 0, 0, 0, 0, 0, 0],\n",
       " [0, 0, 0, 0, 0, 1, 0, 0, 0, 0],\n",
       " [0, 0, 0, 0, 0, 0, 0, 0, 0, 1],\n",
       " [0, 0, 1, 0, 0, 0, 0, 0, 0, 0],\n",
       " [0, 0, 0, 0, 0, 0, 1, 0, 0, 0],\n",
       " [0, 0, 0, 1, 0, 0, 0, 0, 0, 0]]"
      ]
     },
     "execution_count": 41,
     "metadata": {},
     "output_type": "execute_result"
    }
   ],
   "source": [
    "import random\n",
    "\n",
    "\n",
    "class ChessBoard:\n",
    "    def __init__(self, rows):\n",
    "        self.rows = rows\n",
    "        self.board = [[0 for _ in range(rows)] for _ in range(rows)]\n",
    "        self.validPositions = [[True for _ in range(rows)] for _ in range(rows)]\n",
    "        \n",
    "    def toDefault(self):\n",
    "        self.board = [[0 for _ in range(self.rows)] for _ in range(self.rows)]\n",
    "        self.validPositions = [[True for _ in range(self.rows)] for _ in range(self.rows)]\n",
    "    \n",
    "    def changeValid(self, row, column):\n",
    "        def changeRow(self, row):\n",
    "            for c in range(self.rows):\n",
    "                self.validPositions[row][c] = False\n",
    "        \n",
    "        def changeColumn(self, column):\n",
    "            for r in range(self.rows):\n",
    "                self.validPositions[r][column] = False\n",
    "        \n",
    "        def changeDiag(self, row, column):\n",
    "            def changeMainDiag(self, row, column):\n",
    "                if row <= column:\n",
    "                    startPosR = 0\n",
    "                    startPosC = column - row\n",
    "                else:\n",
    "                    startPosR = row - column\n",
    "                    startPosC = 0\n",
    "                for i in range(self.rows):\n",
    "                    try:\n",
    "                        self.validPositions[startPosR][startPosC] = False\n",
    "                        startPosR += 1\n",
    "                        startPosC += 1\n",
    "                    except IndexError:\n",
    "                        break\n",
    "            \n",
    "            def changeSecondaryDiag(self, row, column):\n",
    "                if row + column <= self.rows -1:\n",
    "                    startPosR = 0\n",
    "                    startPosC = column + row\n",
    "                else:\n",
    "                    startPosR = column - (self.rows - 1 - row)\n",
    "                    startPosC = self.rows - 1\n",
    "                for i in range(self.rows):\n",
    "                    self.validPositions[startPosR][startPosC] = False\n",
    "                    startPosR += 1\n",
    "                    if startPosR < 0 or startPosR > self.rows - 1:\n",
    "                        break\n",
    "                    startPosC -= 1\n",
    "                    if startPosC < 0 or startPosC > self.rows - 1:\n",
    "                        break\n",
    "            \n",
    "            changeMainDiag(self, row, column)\n",
    "            changeSecondaryDiag(self, row, column)\n",
    "        \n",
    "        \n",
    "        changeRow(self, row)\n",
    "        changeColumn(self, column)\n",
    "        changeDiag(self, row, column)\n",
    "    \n",
    "    \n",
    "    def placeQueens(self):\n",
    "        queenCount = 0\n",
    "        while True:\n",
    "            for i in range(self.rows):\n",
    "                jNums = list(range(self.rows))\n",
    "                while len(jNums) > 0:\n",
    "                    j = jNums.pop(random.randint(0, len(jNums)-1))\n",
    "                    if self.validPositions[i][j]:\n",
    "                        self.board[i][j] = 1\n",
    "                        self.changeValid(i, j)\n",
    "                        queenCount += 1\n",
    "                        break\n",
    "            \n",
    "            if queenCount < self.rows:\n",
    "                self.toDefault()\n",
    "                queenCount = 0\n",
    "            else:\n",
    "                break\n",
    "\n",
    "\n",
    "ch = ChessBoard(10)\n",
    "ch.placeQueens()\n",
    "ch.board"
   ]
  }
 ],
 "metadata": {
  "kernelspec": {
   "display_name": "Python 3",
   "language": "python",
   "name": "python3"
  },
  "language_info": {
   "codemirror_mode": {
    "name": "ipython",
    "version": 3
   },
   "file_extension": ".py",
   "mimetype": "text/x-python",
   "name": "python",
   "nbconvert_exporter": "python",
   "pygments_lexer": "ipython3",
   "version": "3.9.1"
  }
 },
 "nbformat": 4,
 "nbformat_minor": 5
}
