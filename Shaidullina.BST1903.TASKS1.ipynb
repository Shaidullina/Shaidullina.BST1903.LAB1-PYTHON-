{
 "cells": [
  {
   "cell_type": "markdown",
   "id": "proved-thompson",
   "metadata": {},
   "source": [
    "# Задачи по дисциплине СиАоД №1"
   ]
  },
  {
   "cell_type": "markdown",
   "id": "noticed-heating",
   "metadata": {},
   "source": [
    "## Выполнила студентка группы БСТ1903 Шайдуллина И.Р."
   ]
  },
  {
   "cell_type": "markdown",
   "id": "gross-lease",
   "metadata": {},
   "source": [
    "### Задача 1. «Треугольник с максимальным периметром»"
   ]
  },
  {
   "cell_type": "markdown",
   "id": "shaped-mexican",
   "metadata": {},
   "source": [
    "Массив A состоит из целых положительных чисел ­ длин отрезков. Составьте из трех отрезков такой треугольник, чтобы его периметр был максимально возможным. Если невозможно составить треугольник с положительной площадью ­ функция возвращает 0"
   ]
  },
  {
   "cell_type": "code",
   "execution_count": 12,
   "id": "dominant-visitor",
   "metadata": {},
   "outputs": [
    {
     "name": "stdout",
     "output_type": "stream",
     "text": [
      "5\n",
      "0\n",
      "10\n",
      "8\n"
     ]
    }
   ],
   "source": [
    "from math import sqrt\n",
    "\n",
    "def BigPer(arr):\n",
    "    Big = 0\n",
    "    for a in range(len(arr)-2):\n",
    "        for b in range(a+1, len(arr)-1):\n",
    "            for c in range(b+1, len(arr)):\n",
    "                p = (arr[a] + arr[b] + arr[c]) / 2\n",
    "                S2 = p * (p - arr[a]) * (p - arr[b]) * (p - arr[c])\n",
    "                if S2 <= 0:\n",
    "                    continue\n",
    "                S = sqrt(S2)\n",
    "                perim = arr[a] + arr[b] + arr[c]\n",
    "                if perim > Big:\n",
    "                    Big = perim\n",
    "    return Big\n",
    "\n",
    "\n",
    "print(BigPer([2,1,2]))\n",
    "print(BigPer([1,2,1]))\n",
    "print(BigPer([3,2,3,4]))\n",
    "print(BigPer([3,6,2,3]))"
   ]
  },
  {
   "cell_type": "markdown",
   "id": "worldwide-allah",
   "metadata": {},
   "source": [
    "# Задача 2. «Максимальное число»"
   ]
  },
  {
   "cell_type": "markdown",
   "id": "viral-mother",
   "metadata": {},
   "source": [
    "Дан массив неотрицательных целых чисел nums. Расположите их в таком порядке, чтобы вместе они образовали максимально возможное число. Замечание: Результат может быть очень большим числом, поэтому представьте его как string, а не integer."
   ]
  },
  {
   "cell_type": "code",
   "execution_count": 13,
   "id": "innocent-rocket",
   "metadata": {},
   "outputs": [
    {
     "name": "stdout",
     "output_type": "stream",
     "text": [
      "210\n",
      "9534330\n",
      "1\n",
      "10\n"
     ]
    }
   ],
   "source": [
    "def mNum(arr):\n",
    "    def is_a_big_than_b(a, b):\n",
    "        ab = int(str(a) + str(b))\n",
    "        ba = int(str(b) + str(a))\n",
    "        if ab > ba:\n",
    "            return True\n",
    "        else:\n",
    "            return False\n",
    "    \n",
    "    def sortArr(arr):\n",
    "        for i in range(len(arr) - 1):\n",
    "            big = i\n",
    "            for j in range(i + 1, len(arr)):\n",
    "                if not is_a_big_than_b(arr[big], arr[j]):\n",
    "                    big = j\n",
    "            arr[i], arr[big] = arr[big], arr[i]\n",
    "    \n",
    "    sortArr(arr)\n",
    "    return ''.join(str(e) for e in arr)\n",
    "\n",
    "\n",
    "print(mNum([10,2]))\n",
    "print(mNum([3,30,34,5,9]))\n",
    "print(mNum([1]))\n",
    "print(mNum([10]))"
   ]
  },
  {
   "cell_type": "markdown",
   "id": "acoustic-burns",
   "metadata": {},
   "source": [
    "# Задача 3. «Сортировка диагоналей в матрице»"
   ]
  },
  {
   "cell_type": "markdown",
   "id": "electronic-jordan",
   "metadata": {},
   "source": [
    "Дана матрица mat размером m * n, значения ­ целочисленные. Напишите функцию, сортирующую каждую диагональ матрицы по возрастанию и возвращающую получившуюся матрицу."
   ]
  },
  {
   "cell_type": "code",
   "execution_count": 14,
   "id": "romance-bahrain",
   "metadata": {},
   "outputs": [
    {
     "name": "stdout",
     "output_type": "stream",
     "text": [
      "[[1, 1, 1, 1], [1, 2, 2, 2], [1, 2, 3, 3]]\n",
      "[[5, 17, 4, 1, 52, 7], [11, 11, 25, 45, 8, 69], [14, 23, 25, 44, 58, 15], [22, 27, 31, 36, 50, 66], [84, 28, 75, 33, 55, 68]]\n"
     ]
    }
   ],
   "source": [
    "def sortMat(matrix):\n",
    "    def comp(matrix, i ,j):\n",
    "        if i==0 or j==0:\n",
    "            return\n",
    "        try:\n",
    "            if matrix[i][j]<matrix[i-1][j-1]:\n",
    "                matrix[i][j],matrix[i-1][j-1]=matrix[i-1][j-1],matrix[i][j]\n",
    "                return(comp(matrix,i+1,j+1))\n",
    "        except IndexError:\n",
    "            return\n",
    "    for i in range(len(matrix)-1,-1,-1):\n",
    "        for j in range(0, len(matrix[i]),1):\n",
    "            comp(matrix,i,j)\n",
    "    return matrix\n",
    "print(sortMat([[3, 3, 1, 1], [2, 2, 1, 2], [1, 1, 1, 2]]))\n",
    "print(sortMat([[11, 25, 66, 1, 69, 7], [23, 55, 17, 45, 15, 52], [75, 31, 36,44, 58, 8], [22, 27, 33, 25, 68, 4], [84, 28, 14, 11, 5, 50]]))"
   ]
  },
  {
   "cell_type": "code",
   "execution_count": null,
   "id": "racial-henry",
   "metadata": {},
   "outputs": [],
   "source": []
  }
 ],
 "metadata": {
  "kernelspec": {
   "display_name": "Python 3",
   "language": "python",
   "name": "python3"
  },
  "language_info": {
   "codemirror_mode": {
    "name": "ipython",
    "version": 3
   },
   "file_extension": ".py",
   "mimetype": "text/x-python",
   "name": "python",
   "nbconvert_exporter": "python",
   "pygments_lexer": "ipython3",
   "version": "3.9.1"
  }
 },
 "nbformat": 4,
 "nbformat_minor": 5
}
