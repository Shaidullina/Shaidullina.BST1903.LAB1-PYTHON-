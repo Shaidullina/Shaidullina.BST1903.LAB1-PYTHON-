{
 "cells": [
  {
   "cell_type": "markdown",
   "id": "fitting-defeat",
   "metadata": {},
   "source": [
    "# Задачи по дисциплине СиАоД №1"
   ]
  },
  {
   "cell_type": "markdown",
   "id": "regional-chile",
   "metadata": {},
   "source": [
    "# Выполнила студентка группы БСТ1903 Шайдуллина И.Р.\n"
   ]
  },
  {
   "cell_type": "markdown",
   "id": "southern-armstrong",
   "metadata": {},
   "source": [
    "## Задача 1. «Треугольник с максимальным периметром»"
   ]
  },
  {
   "cell_type": "markdown",
   "id": "indie-pointer",
   "metadata": {},
   "source": [
    "### Массив A состоит из целых положительных чисел ­ длин отрезков. Составьте из трех отрезков такой треугольник, чтобы его периметр был максимально возможным. Если невозможно составить треугольник с положительной площадью ­ функция возвращает 0"
   ]
  },
  {
   "cell_type": "code",
   "execution_count": 9,
   "id": "indoor-basic",
   "metadata": {},
   "outputs": [
    {
     "name": "stdout",
     "output_type": "stream",
     "text": [
      "Введите длину массива 4\n",
      "5 \n",
      "8\n",
      "4\n",
      "2\n",
      "[8, 5, 4, 2]\n",
      "Периметр= 17\n"
     ]
    }
   ],
   "source": [
    "# Находжение периметра\n",
    "def Perimetr (a, b, c):\n",
    "    if (a+b)>c and (a+c)>b and (b+c)>a:\n",
    "        return int(a+b+c)\n",
    "    else:\n",
    "        return 0\n",
    "#\n",
    "length=int(input('Введите длину массива'))\n",
    "mas=[]\n",
    "for i in range(length):\n",
    "    mas.append(int(input()))\n",
    "mas=sorted(mas, reverse=True)\n",
    "print(mas)\n",
    "for i in range(len(mas)-2):\n",
    "    if Perimetr(mas[i], mas[i+1], mas[i+2])>0:\n",
    "        print(\"Периметр=\", Perimetr(mas[i], mas[i+1], mas[i+2]))\n",
    "        break"
   ]
  },
  {
   "cell_type": "markdown",
   "id": "monthly-horse",
   "metadata": {},
   "source": [
    "## Задача 2. «Максимальное число»"
   ]
  },
  {
   "cell_type": "markdown",
   "id": "quality-burns",
   "metadata": {},
   "source": [
    "### Дан массив неотрицательных целых чисел nums. Расположите их в таком порядке, чтобы вместе они образовали максимально возможное число. Замечание: Результат может быть очень большим числом, поэтому представьте его как string, а не integer."
   ]
  },
  {
   "cell_type": "code",
   "execution_count": 10,
   "id": "respected-burlington",
   "metadata": {},
   "outputs": [
    {
     "name": "stdout",
     "output_type": "stream",
     "text": [
      "210\n",
      "9534330\n",
      "1\n",
      "10\n"
     ]
    }
   ],
   "source": [
    "def mNum(arr):\n",
    "    def is_a_big_than_b(a, b):\n",
    "        ab = int(str(a) + str(b))\n",
    "        ba = int(str(b) + str(a))\n",
    "        if ab > ba:\n",
    "            return True\n",
    "        else:\n",
    "            return False\n",
    "    \n",
    "    def sortArr(arr):\n",
    "        for i in range(len(arr) - 1):\n",
    "            big = i\n",
    "            for j in range(i + 1, len(arr)):\n",
    "                if not is_a_big_than_b(arr[big], arr[j]):\n",
    "                    big = j\n",
    "            arr[i], arr[big] = arr[big], arr[i]\n",
    "    \n",
    "    sortArr(arr)\n",
    "    return ''.join(str(e) for e in arr)\n",
    "\n",
    "\n",
    "print(mNum([10,2]))\n",
    "print(mNum([3,30,34,5,9]))\n",
    "print(mNum([1]))\n",
    "print(mNum([10]))\n"
   ]
  },
  {
   "cell_type": "markdown",
   "id": "biological-mechanics",
   "metadata": {},
   "source": [
    "### Задача 3. «Сортировка диагоналей в матрице»"
   ]
  },
  {
   "cell_type": "markdown",
   "id": "sound-coupon",
   "metadata": {},
   "source": [
    "#### Дана матрица mat размером m * n, значения ­ целочисленные. Напишите функцию, сортирующую каждую диагональ матрицы по возрастанию и возвращающую получившуюся матрицу."
   ]
  },
  {
   "cell_type": "code",
   "execution_count": 11,
   "id": "front-authorization",
   "metadata": {},
   "outputs": [
    {
     "name": "stdout",
     "output_type": "stream",
     "text": [
      "[[1, 1, 1, 1], [1, 2, 2, 2], [1, 2, 3, 3]]\n",
      "[[5, 17, 4, 1, 52, 7], [11, 11, 25, 45, 8, 69], [14, 23, 25, 44, 58, 15], [22, 27, 31, 36, 50, 66], [84, 28, 75, 33, 55, 68]]\n"
     ]
    }
   ],
   "source": [
    "def sortMat(matrix):\n",
    "    def comp(matrix, i ,j):\n",
    "        if i==0 or j==0:\n",
    "            return\n",
    "        try:\n",
    "            if matrix[i][j]<matrix[i-1][j-1]:\n",
    "                matrix[i][j],matrix[i-1][j-1]=matrix[i-1][j-1],matrix[i][j]\n",
    "                return(comp(matrix,i+1,j+1))\n",
    "        except IndexError:\n",
    "            return\n",
    "    for i in range(len(matrix)-1,-1,-1):\n",
    "        for j in range(0, len(matrix[i]),1):\n",
    "            comp(matrix,i,j)\n",
    "    return matrix\n",
    "print(sortMat([[3, 3, 1, 1], [2, 2, 1, 2], [1, 1, 1, 2]]))\n",
    "print(sortMat([[11, 25, 66, 1, 69, 7], [23, 55, 17, 45, 15, 52], [75, 31, 36,44, 58, 8], [22, 27, 33, 25, 68, 4], [84, 28, 14, 11, 5, 50]]))"
   ]
  },
  {
   "cell_type": "code",
   "execution_count": null,
   "id": "arranged-concentrate",
   "metadata": {},
   "outputs": [],
   "source": []
  }
 ],
 "metadata": {
  "kernelspec": {
   "display_name": "Python 3",
   "language": "python",
   "name": "python3"
  }
 },
 "nbformat": 4,
 "nbformat_minor": 5
}
